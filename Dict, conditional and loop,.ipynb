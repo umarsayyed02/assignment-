{
 "cells": [
  {
   "cell_type": "code",
   "execution_count": 6,
   "id": "b1e5cd69-7192-4038-8b2e-eebc99815599",
   "metadata": {},
   "outputs": [
    {
     "name": "stdin",
     "output_type": "stream",
     "text": [
      "Please enter your required marks 45\n"
     ]
    },
    {
     "name": "stdout",
     "output_type": "stream",
     "text": [
      "You will be part of A2 batch \n"
     ]
    }
   ],
   "source": [
    "marks = int(input(\"Please enter your required marks\"))\n",
    "if marks >= 80:\n",
    "    print(\"You will be part of A0 batch \")\n",
    "elif marks >= 60 and marks < 80:\n",
    "    print(\"You will be part of A1 batch \")\n",
    "elif marks >= 40 and marks <60:\n",
    "    print(\"You will be part of A2 batch \")\n",
    "else:\n",
    "    print(\"You will be part of A3 batch \")"
   ]
  },
  {
   "cell_type": "code",
   "execution_count": 11,
   "id": "9f7bf9e7-7aa3-4d4c-838a-b0211cdacedc",
   "metadata": {},
   "outputs": [
    {
     "name": "stdin",
     "output_type": "stream",
     "text": [
      "Enter price 7000\n"
     ]
    },
    {
     "name": "stdout",
     "output_type": "stream",
     "text": [
      "I will not purchase the good \n",
      "This is too much\n"
     ]
    }
   ],
   "source": [
    "price = int(input(\"Enter price\"))\n",
    "if price > 1000:\n",
    "    print(\"I will not purchase the good \")\n",
    "    if price > 5000:\n",
    "        print(\"This is too much\")\n"
   ]
  },
  {
   "cell_type": "code",
   "execution_count": 12,
   "id": "e359644a-40c0-4658-acf0-ebd5ab588036",
   "metadata": {},
   "outputs": [],
   "source": [
    "l = [1,2,3,4,5,6,7,8]\n"
   ]
  },
  {
   "cell_type": "code",
   "execution_count": 19,
   "id": "37efbdb5-abcb-4e78-93b6-2392a5b38bce",
   "metadata": {},
   "outputs": [
    {
     "name": "stdout",
     "output_type": "stream",
     "text": [
      "2\n",
      "3\n",
      "4\n",
      "5\n",
      "6\n",
      "7\n",
      "8\n",
      "9\n"
     ]
    },
    {
     "data": {
      "text/plain": [
       "[2, 3, 4, 5, 6, 7, 8, 9]"
      ]
     },
     "execution_count": 19,
     "metadata": {},
     "output_type": "execute_result"
    }
   ],
   "source": [
    "l1 = []\n",
    "for i in l:\n",
    "    print(i+1)\n",
    "    l1.append(i+1)\n",
    "l1"
   ]
  },
  {
   "cell_type": "code",
   "execution_count": 20,
   "id": "840d94cf-83db-4a7b-a86f-0d22883f244d",
   "metadata": {},
   "outputs": [
    {
     "data": {
      "text/plain": [
       "[1, 2, 3, 4, 5, 6, 7, 8]"
      ]
     },
     "execution_count": 20,
     "metadata": {},
     "output_type": "execute_result"
    }
   ],
   "source": [
    "l"
   ]
  },
  {
   "cell_type": "code",
   "execution_count": 21,
   "id": "2f9225ee-8e09-48ff-b8fc-af34ed4b1091",
   "metadata": {},
   "outputs": [
    {
     "data": {
      "text/plain": [
       "[2, 3, 4, 5, 6, 7, 8, 9]"
      ]
     },
     "execution_count": 21,
     "metadata": {},
     "output_type": "execute_result"
    }
   ],
   "source": [
    "l1"
   ]
  },
  {
   "cell_type": "code",
   "execution_count": 22,
   "id": "4bfceee6-b038-46e2-8d29-d86417f92027",
   "metadata": {},
   "outputs": [],
   "source": [
    "l = [\"sudh\", \"kumar\", \"Pwskills\", \"course\"]"
   ]
  },
  {
   "cell_type": "code",
   "execution_count": 30,
   "id": "feff4f91-a37a-40d9-b18f-f46f8e6c4b5e",
   "metadata": {},
   "outputs": [
    {
     "name": "stdout",
     "output_type": "stream",
     "text": [
      "sudh\n",
      "kumar\n",
      "Pwskills\n",
      "course\n"
     ]
    }
   ],
   "source": [
    "l1 = []\n",
    "for i in  l:\n",
    "    print(i)\n",
    "    l1.append(i.upper())\n"
   ]
  },
  {
   "cell_type": "code",
   "execution_count": 29,
   "id": "65e58b50-5c58-42bb-90d1-e03bfb2de877",
   "metadata": {},
   "outputs": [
    {
     "data": {
      "text/plain": [
       "['SUDH', 'KUMAR', 'PWSKILLS', 'COURSE']"
      ]
     },
     "execution_count": 29,
     "metadata": {},
     "output_type": "execute_result"
    }
   ],
   "source": [
    "l1"
   ]
  },
  {
   "cell_type": "code",
   "execution_count": 31,
   "id": "05b9f4cd-5262-4eba-ac62-7b79883a88a9",
   "metadata": {},
   "outputs": [],
   "source": [
    "l = [1,2,3,4,4,\"sudh\",\"kumar\",324, 34.456, \"abc\"]"
   ]
  },
  {
   "cell_type": "code",
   "execution_count": 40,
   "id": "46e4e992-8956-4219-a371-032aff79e2fd",
   "metadata": {},
   "outputs": [
    {
     "name": "stdout",
     "output_type": "stream",
     "text": [
      "1\n",
      "2\n",
      "3\n",
      "4\n",
      "4\n",
      "sudh\n",
      "kumar\n",
      "324\n",
      "34.456\n",
      "abc\n"
     ]
    },
    {
     "data": {
      "text/plain": [
       "['sudh', 'kumar', 'abc']"
      ]
     },
     "execution_count": 40,
     "metadata": {},
     "output_type": "execute_result"
    }
   ],
   "source": [
    "l1 = []\n",
    "l2 = []\n",
    "for i in l:\n",
    "    print(i)\n",
    "    if type(i) == int or type(i) == float:\n",
    "        l1.append(i)\n",
    "    else:\n",
    "        l2.append(i)\n",
    "l1\n",
    "l2"
   ]
  },
  {
   "cell_type": "code",
   "execution_count": 41,
   "id": "6a80d499-e41e-4b1f-8a85-6cfbd5f29f83",
   "metadata": {},
   "outputs": [
    {
     "data": {
      "text/plain": [
       "[1, 2, 3, 4, 4, 324, 34.456]"
      ]
     },
     "execution_count": 41,
     "metadata": {},
     "output_type": "execute_result"
    }
   ],
   "source": [
    "l1"
   ]
  },
  {
   "cell_type": "code",
   "execution_count": 42,
   "id": "ad3add1e-81cc-4aa5-b8ea-328d33ce0ee4",
   "metadata": {},
   "outputs": [
    {
     "data": {
      "text/plain": [
       "['sudh', 'kumar', 'abc']"
      ]
     },
     "execution_count": 42,
     "metadata": {},
     "output_type": "execute_result"
    }
   ],
   "source": [
    "l2"
   ]
  },
  {
   "cell_type": "code",
   "execution_count": null,
   "id": "b7b40565-d606-405b-8923-4f2cc24fc6b4",
   "metadata": {},
   "outputs": [],
   "source": []
  }
 ],
 "metadata": {
  "kernelspec": {
   "display_name": "Python 3 (ipykernel)",
   "language": "python",
   "name": "python3"
  },
  "language_info": {
   "codemirror_mode": {
    "name": "ipython",
    "version": 3
   },
   "file_extension": ".py",
   "mimetype": "text/x-python",
   "name": "python",
   "nbconvert_exporter": "python",
   "pygments_lexer": "ipython3",
   "version": "3.10.8"
  }
 },
 "nbformat": 4,
 "nbformat_minor": 5
}
